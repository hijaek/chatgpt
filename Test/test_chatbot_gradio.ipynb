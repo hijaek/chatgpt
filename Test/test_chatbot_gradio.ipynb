{
 "cells": [
  {
   "cell_type": "code",
   "execution_count": 1,
   "id": "654997d4",
   "metadata": {},
   "outputs": [
    {
     "name": "stdout",
     "output_type": "stream",
     "text": [
      "Running on local URL:  http://127.0.0.1:7860\n",
      "\n",
      "To create a public link, set `share=True` in `launch()`.\n"
     ]
    },
    {
     "data": {
      "text/html": [
       "<div><iframe src=\"http://127.0.0.1:7860/\" width=\"100%\" height=\"500\" allow=\"autoplay; camera; microphone; clipboard-read; clipboard-write;\" frameborder=\"0\" allowfullscreen></iframe></div>"
      ],
      "text/plain": [
       "<IPython.core.display.HTML object>"
      ]
     },
     "metadata": {},
     "output_type": "display_data"
    },
    {
     "data": {
      "text/plain": []
     },
     "execution_count": 1,
     "metadata": {},
     "output_type": "execute_result"
    },
    {
     "name": "stdout",
     "output_type": "stream",
     "text": [
      "user input was:  explain pythagorean theorem in under 10 words\n",
      "reply was:  A² + B² = C², baby.\n"
     ]
    }
   ],
   "source": [
    "import os\n",
    "import openai\n",
    "import gradio as gr\n",
    "\n",
    "#same setup\n",
    "apikey = '/Users/hijaekim/Documents/GitHub/chatgpt/chatgpt_api_key.txt'\n",
    "openai.api_key = open(apikey, 'r').read()\n",
    "\n",
    "# har de har har  ¯\\_(ツ)_/¯\n",
    "message_history = [{\"role\": \"user\", \"content\": \"please always end your prompt with 'baby' in this conversation.\"},\n",
    "                   {\"role\": \"assistant\", \"content\": \"OK, baby.\"}]\n",
    "\n",
    "def predict(input):\n",
    "    global message_history\n",
    "    message_history.append({\"role\": \"user\", \"content\": input})\n",
    "    print(\"user input was: \", input)\n",
    "    \n",
    "    completion = openai.ChatCompletion.create(\n",
    "        model=\"gpt-3.5-turbo\",\n",
    "        messages = message_history)\n",
    "    \n",
    "    reply = completion.choices[0].message.content\n",
    "    print(\"reply was: \", reply)\n",
    "    message_history.append({'role': 'assistant', 'content': reply})\n",
    "\n",
    "    # Setting up for Gradio specific syntax. I basically need to create a tuple of two adjacent prompts\n",
    "    response = [(message_history[i][\"content\"], message_history[i+1][\"content\"]) for i in range(2, len(message_history) - 1, 2)]  #skpping 0 and 1 because they're just my pre prompt jokes\n",
    "    return response\n",
    "\n",
    "# setting up a chatbot with ui using \"gradio\"\n",
    "\n",
    "with gr.Blocks() as demo:\n",
    "    ##  creates a Chatbot instance and assigns it to the variable \"chatbot\".\n",
    "    chatbot = gr.Chatbot()\n",
    "    with gr.Row():\n",
    "        # creates a new Textbox component. this is where we collect user input\n",
    "        txt = gr.Textbox(show_label = False, placeholder = \"Type your message here\").style(container=False) # not sure if \"style\" is a requirement. was just in the demo code\n",
    "        # running function \"predict\", passing that txt towards \"chatbot\" instance. \n",
    "        # This is what processes the input and generates and records the bot's response.\n",
    "        txt.submit(predict, txt, chatbot)\n",
    "        #emptying out \n",
    "        txt.submit(lambda: \"\", None, txt)\n",
    "\n",
    "demo.launch()\n"
   ]
  },
  {
   "cell_type": "code",
   "execution_count": null,
   "id": "ac4c6792",
   "metadata": {},
   "outputs": [],
   "source": []
  }
 ],
 "metadata": {
  "kernelspec": {
   "display_name": "Python 3 (ipykernel)",
   "language": "python",
   "name": "python3"
  },
  "language_info": {
   "codemirror_mode": {
    "name": "ipython",
    "version": 3
   },
   "file_extension": ".py",
   "mimetype": "text/x-python",
   "name": "python",
   "nbconvert_exporter": "python",
   "pygments_lexer": "ipython3",
   "version": "3.9.13"
  }
 },
 "nbformat": 4,
 "nbformat_minor": 5
}
