{
 "cells": [
  {
   "cell_type": "code",
   "execution_count": 2,
   "id": "654997d4",
   "metadata": {},
   "outputs": [],
   "source": [
    "import os\n",
    "import openai\n",
    "\n",
    "apikey = '/Users/hijaekim/Documents/GitHub/chatgpt/chatgpt_api_key.txt'\n",
    "openai.api_key = open(apikey, 'r').read()\n"
   ]
  },
  {
   "cell_type": "code",
   "execution_count": 28,
   "id": "e3beef5e",
   "metadata": {},
   "outputs": [
    {
     "name": "stdout",
     "output_type": "stream",
     "text": [
      "{\n",
      "  \"choices\": [\n",
      "    {\n",
      "      \"finish_reason\": \"stop\",\n",
      "      \"index\": 0,\n",
      "      \"message\": {\n",
      "        \"content\": \"\\n\\nThe Pythagorean theorem is like a special code that can tell us how long the sides of a right triangle are. It says that if we add the squares of the shorter sides (legs) together, then it equals the square of the longest side (hypotenuse).\",\n",
      "        \"role\": \"assistant\"\n",
      "      }\n",
      "    }\n",
      "  ],\n",
      "  \"created\": 1678856339,\n",
      "  \"id\": \"chatcmpl-6uDVzh5v1U7ms43U7ttBUJa6WjQVn\",\n",
      "  \"model\": \"gpt-3.5-turbo-0301\",\n",
      "  \"object\": \"chat.completion\",\n",
      "  \"usage\": {\n",
      "    \"completion_tokens\": 56,\n",
      "    \"prompt_tokens\": 20,\n",
      "    \"total_tokens\": 76\n",
      "  }\n",
      "}\n"
     ]
    }
   ],
   "source": [
    "#testing out the chat function\n",
    "myprompt = \"explain pythagorean theorem to a five year old in two sentences\"\n",
    "\n",
    "completion = openai.ChatCompletion.create(\n",
    "    model=\"gpt-3.5-turbo\",\n",
    "    messages = [{\"role\": \"user\", \"content\": myprompt}]\n",
    ")\n",
    "\n",
    "print(completion)\n"
   ]
  },
  {
   "cell_type": "code",
   "execution_count": 8,
   "id": "a16829f4",
   "metadata": {},
   "outputs": [
    {
     "name": "stdout",
     "output_type": "stream",
     "text": [
      "\n",
      "\n",
      "The Pythagorean Theorem is a way to figure out how long each side of a square is when you know the other two sides. It's like using a puzzle to find out the missing piece of a triangle!\n"
     ]
    }
   ],
   "source": [
    "#printing reply\n",
    "reply = completion.choices[0].message.content#.strip('\\n')\n",
    "print(reply)\n",
    "## yay"
   ]
  },
  {
   "cell_type": "code",
   "execution_count": 51,
   "id": "cae683f9",
   "metadata": {},
   "outputs": [
    {
     "name": "stdout",
     "output_type": "stream",
     "text": [
      "user's input was: explain pythagorean theorem to a five year old in two sentences\n",
      "\n"
     ]
    }
   ],
   "source": [
    "message_history = []\n",
    "\n",
    "user_input = input(\">: \")\n",
    "print(\"user's input was:\", user_input)\n",
    "print()\n",
    "\n",
    "## yay"
   ]
  },
  {
   "cell_type": "code",
   "execution_count": 52,
   "id": "4cc00f34",
   "metadata": {},
   "outputs": [],
   "source": [
    "message_history.append({\"role\": \"user\", \"content\": user_input})\n"
   ]
  },
  {
   "cell_type": "code",
   "execution_count": 53,
   "id": "ae176a5b",
   "metadata": {},
   "outputs": [
    {
     "data": {
      "text/plain": [
       "[{'role': 'user',\n",
       "  'content': 'explain pythagorean theorem to a five year old in two sentences'}]"
      ]
     },
     "execution_count": 53,
     "metadata": {},
     "output_type": "execute_result"
    }
   ],
   "source": [
    "message_history"
   ]
  },
  {
   "cell_type": "code",
   "execution_count": 54,
   "id": "ac1b963f",
   "metadata": {},
   "outputs": [
    {
     "name": "stdout",
     "output_type": "stream",
     "text": [
      "[{'role': 'user', 'content': 'explain pythagorean theorem to a five year old in two sentences'}, {'role': 'assistant', 'content': \"\\n\\nThe Pythagorean Theorem is a way to figure out how long each side of a square is when you know the other two sides. It's like using a puzzle to find out the missing piece of a triangle!\"}]\n"
     ]
    }
   ],
   "source": [
    "completion = openai.ChatCompletion.create(\n",
    "    model=\"gpt-3.5-turbo\",\n",
    "    messages = message_history\n",
    ")\n",
    "\n",
    "message_history.append({'role': 'assistant', 'content': reply})\n",
    "print(message_history)\n"
   ]
  },
  {
   "cell_type": "code",
   "execution_count": 61,
   "id": "359978a7",
   "metadata": {},
   "outputs": [
    {
     "data": {
      "text/plain": [
       "[{'role': 'user',\n",
       "  'content': 'explain pythagorean theorem to a five year old in two sentences'},\n",
       " {'role': 'assistant',\n",
       "  'content': \"\\n\\nThe Pythagorean Theorem is a way to figure out how long each side of a square is when you know the other two sides. It's like using a puzzle to find out the missing piece of a triangle!\"}]"
      ]
     },
     "execution_count": 61,
     "metadata": {},
     "output_type": "execute_result"
    }
   ],
   "source": [
    "del message_history[2]\n",
    "message_history"
   ]
  },
  {
   "cell_type": "code",
   "execution_count": 62,
   "id": "e59bbd95",
   "metadata": {},
   "outputs": [
    {
     "name": "stdout",
     "output_type": "stream",
     "text": [
      "User's input was: make it one sentence\n",
      "\n"
     ]
    }
   ],
   "source": [
    "user_input = input(\">: \")\n",
    "print(\"User's input was:\", user_input)\n",
    "print()\n",
    "message_history.append({'role': 'user', 'content': user_input})\n",
    "\n",
    "completion = openai.ChatCompletion.create(\n",
    "    model=\"gpt-3.5-turbo\",\n",
    "    messages = message_history\n",
    ")\n",
    "\n",
    "reply = completion.choices[0].message.content\n",
    "message_history.append({'role': 'assistant', 'content': reply})\n",
    "\n"
   ]
  },
  {
   "cell_type": "code",
   "execution_count": 63,
   "id": "c762f5a2",
   "metadata": {},
   "outputs": [
    {
     "data": {
      "text/plain": [
       "[{'role': 'user',\n",
       "  'content': 'explain pythagorean theorem to a five year old in two sentences'},\n",
       " {'role': 'assistant',\n",
       "  'content': \"\\n\\nThe Pythagorean Theorem is a way to figure out how long each side of a square is when you know the other two sides. It's like using a puzzle to find out the missing piece of a triangle!\"},\n",
       " {'role': 'user', 'content': 'make it one sentence'},\n",
       " {'role': 'assistant',\n",
       "  'content': 'The Pythagorean Theorem helps us find missing sides of squares and triangles.'}]"
      ]
     },
     "execution_count": 63,
     "metadata": {},
     "output_type": "execute_result"
    }
   ],
   "source": [
    "message_history"
   ]
  },
  {
   "cell_type": "code",
   "execution_count": null,
   "id": "cbec35ec",
   "metadata": {},
   "outputs": [],
   "source": []
  }
 ],
 "metadata": {
  "kernelspec": {
   "display_name": "Python 3 (ipykernel)",
   "language": "python",
   "name": "python3"
  },
  "language_info": {
   "codemirror_mode": {
    "name": "ipython",
    "version": 3
   },
   "file_extension": ".py",
   "mimetype": "text/x-python",
   "name": "python",
   "nbconvert_exporter": "python",
   "pygments_lexer": "ipython3",
   "version": "3.9.13"
  }
 },
 "nbformat": 4,
 "nbformat_minor": 5
}
