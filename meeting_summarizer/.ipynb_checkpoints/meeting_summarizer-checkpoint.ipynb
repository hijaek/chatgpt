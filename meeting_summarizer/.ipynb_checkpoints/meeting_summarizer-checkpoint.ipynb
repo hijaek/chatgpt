{
 "cells": [
  {
   "cell_type": "code",
   "execution_count": 1,
   "id": "654997d4",
   "metadata": {},
   "outputs": [],
   "source": [
    "import os\n",
    "import openai\n",
    "import whisper\n",
    "import gradio as gr\n",
    "\n",
    "#same setup\n",
    "apikey = '/Users/hijaekim/Documents/GitHub/chatgpt/chatgpt_api_key.txt'\n",
    "openai.api_key = open(apikey, 'r').read()\n"
   ]
  },
  {
   "cell_type": "code",
   "execution_count": 2,
   "id": "4e163ef6",
   "metadata": {},
   "outputs": [],
   "source": [
    "\n",
    "easy_audio = open(\"1 - Easy - 3 Python Features.mp3\", \"rb\")\n",
    "medium_audio = open(\"2 - Medium - Bros before hoes scene.m4a\", \"rb\")\n",
    "hard_audio = open(\"4 - Hard - Jimmy Kimmel & Obama.m4a\", \"rb\")\n",
    "\n",
    "transcript_easy = openai.Audio.transcribe(\"whisper-1\", easy_audio)\n",
    "transcript_medium = openai.Audio.transcribe(\"whisper-1\", medium_audio)\n",
    "transcript_easy = openai.Audio.transcribe(\"whisper-1\", hard_audio)"
   ]
  },
  {
   "cell_type": "code",
   "execution_count": 3,
   "id": "e7cf76c1",
   "metadata": {},
   "outputs": [],
   "source": []
  },
  {
   "cell_type": "code",
   "execution_count": null,
   "id": "11ce356a",
   "metadata": {},
   "outputs": [],
   "source": [
    "model = whisper.load_model('base')\n"
   ]
  },
  {
   "cell_type": "code",
   "execution_count": null,
   "id": "f3bfc5c7",
   "metadata": {},
   "outputs": [],
   "source": [
    "model.transcribe(\"2 - Medium - Bros before hoes scene.m4a\", fp16 = False)"
   ]
  }
 ],
 "metadata": {
  "kernelspec": {
   "display_name": "Python 3 (ipykernel)",
   "language": "python",
   "name": "python3"
  },
  "language_info": {
   "codemirror_mode": {
    "name": "ipython",
    "version": 3
   },
   "file_extension": ".py",
   "mimetype": "text/x-python",
   "name": "python",
   "nbconvert_exporter": "python",
   "pygments_lexer": "ipython3",
   "version": "3.9.13"
  }
 },
 "nbformat": 4,
 "nbformat_minor": 5
}
