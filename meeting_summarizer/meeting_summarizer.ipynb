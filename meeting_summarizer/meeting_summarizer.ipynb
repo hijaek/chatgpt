{
 "cells": [
  {
   "cell_type": "code",
   "execution_count": 1,
   "id": "654997d4",
   "metadata": {},
   "outputs": [],
   "source": [
    "import os\n",
    "import openai\n",
    "# import whisper\n",
    "import gradio as gr\n",
    "\n",
    "#same setup\n",
    "apikey = '/Users/hijaekim/Documents/GitHub/chatgpt/chatgpt_api_key.txt'\n",
    "openai.api_key = open(apikey, 'r').read()\n"
   ]
  },
  {
   "cell_type": "code",
   "execution_count": 2,
   "id": "4e163ef6",
   "metadata": {},
   "outputs": [],
   "source": [
    "\n",
    "easy_audio = open(\"1 - Easy - 3 Python Features.mp3\", \"rb\")\n",
    "medium_audio = open(\"2 - Medium - Bros before hoes scene.m4a\", \"rb\")\n",
    "medium_audio2 = open(\"3 - Medium - Dr. Suess.m4a\", \"rb\")\n",
    "hard_audio = open(\"4 - Hard - Jimmy Kimmel & Obama.m4a\", \"rb\")\n",
    "\n",
    "transcript_easy = openai.Audio.transcribe(\"whisper-1\", easy_audio)\n",
    "transcript_medium = openai.Audio.transcribe(\"whisper-1\", medium_audio)\n",
    "transcript_medium2 = openai.Audio.transcribe(\"whisper-1\", medium_audio2)\n",
    "transcript_hard = openai.Audio.transcribe(\"whisper-1\", hard_audio)"
   ]
  },
  {
   "cell_type": "code",
   "execution_count": 3,
   "id": "11ce356a",
   "metadata": {},
   "outputs": [
    {
     "name": "stdout",
     "output_type": "stream",
     "text": [
      "So when you're at home, can you run down to the kitchen in your underpants in the middle of the night if you're hungry? I mean, I could. I don't. You don't? Is there someone in the kitchen at all times? Like, if you wanted a sandwich in the night, would you have to wake someone up? Yeah, I wouldn't wake somebody up to have a sandwich. You're allowed to go in the refrigerator on your own? I am. I am. There's a refrigerator, and there's silverware. What was the last time you actually cooked? Now, it's been a while since I've cooked. It has been a while. I won't lie about that. Do you ever drive? I cannot drive. I mean, I'm able to drive. Is it because you don't have a birth certificate? Exactly. I am. I am. I am. I am. In Kenya, we drive on the other side of the street. Actually, the last time I drove, a former staffer came by, and he comes through the South Lawn, and he's got one of these new electric cars at the time they were new. And he was very excited about it. I said, well, yeah, let's try it out. So I just grab his keys, and we just go out. It's parked right in front. And I start circling the South Lawn. And the Secret Service, no matter what you do, do not let him out. And they were pretty upset. They call you Renegade, right? They do. Yeah. Because you're tooling around in an electric car, topping speeds of 30 miles an hour. I think we have 35. If you have to go to the dentist, do you go to the dentist? No, the dentist comes to me. The dentist comes to you. Do you have the chair, the tools? You got the whole chair. Everything is all there set up. Everything is there. In the basement. I didn't know. I showed up. I said, you know, I think I've got a cap that's loose. Sir, here we are. Do you reset the clocks when daylight saving time happens? Somebody else does that for you. Somebody does that for you. Will you get rid of daylight saving time? Or at least get rid of the part where we have to wake up earlier. You can leave the other one. See, this is a California thing, because you guys are always getting sun. In the East Coast, you don't mind losing that hour, because that's a signal that spring is here. We only care about ourselves.\n"
     ]
    }
   ],
   "source": [
    "print(transcript_hard['text'])"
   ]
  },
  {
   "cell_type": "code",
   "execution_count": 4,
   "id": "ff61c18b",
   "metadata": {},
   "outputs": [
    {
     "name": "stderr",
     "output_type": "stream",
     "text": [
      "/Users/hijaekim/opt/anaconda3/lib/python3.9/site-packages/whisper/__init__.py:63: UserWarning: /Users/hijaekim/.cache/whisper/medium.pt exists, but the SHA256 checksum does not match; re-downloading the file\n",
      "  warnings.warn(\n",
      "100%|█████████████████████████████████████| 1.42G/1.42G [01:54<00:00, 13.4MiB/s]\n"
     ]
    }
   ],
   "source": [
    "import whisper\n",
    "# models_b = whisper.load_model(\"base\")\n",
    "models_m = whisper.load_model(\"medium\")\n",
    "# models_l = whisper.load_model(\"large\")"
   ]
  },
  {
   "cell_type": "code",
   "execution_count": null,
   "id": "aad89c79",
   "metadata": {},
   "outputs": [],
   "source": [
    "model_m.transcribe(hard_audio,)"
   ]
  },
  {
   "cell_type": "code",
   "execution_count": null,
   "id": "f0afc7fb",
   "metadata": {},
   "outputs": [],
   "source": []
  }
 ],
 "metadata": {
  "kernelspec": {
   "display_name": "Python 3 (ipykernel)",
   "language": "python",
   "name": "python3"
  },
  "language_info": {
   "codemirror_mode": {
    "name": "ipython",
    "version": 3
   },
   "file_extension": ".py",
   "mimetype": "text/x-python",
   "name": "python",
   "nbconvert_exporter": "python",
   "pygments_lexer": "ipython3",
   "version": "3.9.13"
  }
 },
 "nbformat": 4,
 "nbformat_minor": 5
}
